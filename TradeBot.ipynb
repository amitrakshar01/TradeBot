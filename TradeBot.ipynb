{
  "nbformat": 4,
  "nbformat_minor": 0,
  "metadata": {
    "colab": {
      "name": "TradeBot",
      "provenance": [],
      "collapsed_sections": []
    },
    "kernelspec": {
      "name": "python3",
      "display_name": "Python 3"
    },
    "language_info": {
      "name": "python"
    }
  },
  "cells": [
    {
      "cell_type": "code",
      "execution_count": null,
      "metadata": {
        "colab": {
          "base_uri": "https://localhost:8080/"
        },
        "id": "SmPk48MK8fMu",
        "outputId": "a6d29a65-ba1b-42c7-ef40-39524139e088"
      },
      "outputs": [
        {
          "output_type": "stream",
          "name": "stdout",
          "text": [
            "Collecting pipenv\n",
            "  Downloading pipenv-2022.1.8-py2.py3-none-any.whl (3.6 MB)\n",
            "\u001b[K     |████████████████████████████████| 3.6 MB 5.4 MB/s \n",
            "\u001b[?25hRequirement already satisfied: certifi in /usr/local/lib/python3.7/dist-packages (from pipenv) (2021.10.8)\n",
            "Collecting virtualenv\n",
            "  Downloading virtualenv-20.13.1-py2.py3-none-any.whl (8.6 MB)\n",
            "\u001b[K     |████████████████████████████████| 8.6 MB 44.1 MB/s \n",
            "\u001b[?25hRequirement already satisfied: pip>=18.0 in /usr/local/lib/python3.7/dist-packages (from pipenv) (21.1.3)\n",
            "Collecting virtualenv-clone>=0.2.5\n",
            "  Downloading virtualenv_clone-0.5.7-py3-none-any.whl (6.6 kB)\n",
            "Requirement already satisfied: setuptools>=36.2.1 in /usr/local/lib/python3.7/dist-packages (from pipenv) (57.4.0)\n",
            "Requirement already satisfied: filelock<4,>=3.2 in /usr/local/lib/python3.7/dist-packages (from virtualenv->pipenv) (3.4.2)\n",
            "Requirement already satisfied: importlib-metadata>=0.12 in /usr/local/lib/python3.7/dist-packages (from virtualenv->pipenv) (4.10.1)\n",
            "Requirement already satisfied: six<2,>=1.9.0 in /usr/local/lib/python3.7/dist-packages (from virtualenv->pipenv) (1.15.0)\n",
            "Collecting distlib<1,>=0.3.1\n",
            "  Downloading distlib-0.3.4-py2.py3-none-any.whl (461 kB)\n",
            "\u001b[K     |████████████████████████████████| 461 kB 59.4 MB/s \n",
            "\u001b[?25hCollecting platformdirs<3,>=2\n",
            "  Downloading platformdirs-2.4.1-py3-none-any.whl (14 kB)\n",
            "Requirement already satisfied: typing-extensions>=3.6.4 in /usr/local/lib/python3.7/dist-packages (from importlib-metadata>=0.12->virtualenv->pipenv) (3.10.0.2)\n",
            "Requirement already satisfied: zipp>=0.5 in /usr/local/lib/python3.7/dist-packages (from importlib-metadata>=0.12->virtualenv->pipenv) (3.7.0)\n",
            "Installing collected packages: platformdirs, distlib, virtualenv-clone, virtualenv, pipenv\n",
            "Successfully installed distlib-0.3.4 pipenv-2022.1.8 platformdirs-2.4.1 virtualenv-20.13.1 virtualenv-clone-0.5.7\n"
          ]
        }
      ],
      "source": [
        "!pip install pipenv"
      ]
    },
    {
      "cell_type": "code",
      "source": [
        "!pip install alpaca-trade-api"
      ],
      "metadata": {
        "colab": {
          "base_uri": "https://localhost:8080/"
        },
        "id": "vGAbl96R972r",
        "outputId": "12292528-fe59-4071-b370-a0c4b94419af"
      },
      "execution_count": 9,
      "outputs": [
        {
          "output_type": "stream",
          "name": "stdout",
          "text": [
            "Requirement already satisfied: alpaca-trade-api in /usr/local/lib/python3.7/dist-packages (1.5.0)\n",
            "Requirement already satisfied: numpy>=1.11.1 in /usr/local/lib/python3.7/dist-packages (from alpaca-trade-api) (1.19.5)\n",
            "Requirement already satisfied: requests<3,>2 in /usr/local/lib/python3.7/dist-packages (from alpaca-trade-api) (2.23.0)\n",
            "Requirement already satisfied: PyYAML==5.4.1 in /usr/local/lib/python3.7/dist-packages (from alpaca-trade-api) (5.4.1)\n",
            "Requirement already satisfied: pandas>=0.18.1 in /usr/local/lib/python3.7/dist-packages (from alpaca-trade-api) (1.3.5)\n",
            "Requirement already satisfied: aiohttp==3.7.4 in /usr/local/lib/python3.7/dist-packages (from alpaca-trade-api) (3.7.4)\n",
            "Requirement already satisfied: urllib3<2,>1.24 in /usr/local/lib/python3.7/dist-packages (from alpaca-trade-api) (1.24.3)\n",
            "Requirement already satisfied: deprecation==2.1.0 in /usr/local/lib/python3.7/dist-packages (from alpaca-trade-api) (2.1.0)\n",
            "Requirement already satisfied: websocket-client<2,>=0.56.0 in /usr/local/lib/python3.7/dist-packages (from alpaca-trade-api) (1.2.3)\n",
            "Requirement already satisfied: msgpack==1.0.2 in /usr/local/lib/python3.7/dist-packages (from alpaca-trade-api) (1.0.2)\n",
            "Requirement already satisfied: websockets<10,>=8.0 in /usr/local/lib/python3.7/dist-packages (from alpaca-trade-api) (9.1)\n",
            "Requirement already satisfied: yarl<2.0,>=1.0 in /usr/local/lib/python3.7/dist-packages (from aiohttp==3.7.4->alpaca-trade-api) (1.7.2)\n",
            "Requirement already satisfied: attrs>=17.3.0 in /usr/local/lib/python3.7/dist-packages (from aiohttp==3.7.4->alpaca-trade-api) (21.4.0)\n",
            "Requirement already satisfied: typing-extensions>=3.6.5 in /usr/local/lib/python3.7/dist-packages (from aiohttp==3.7.4->alpaca-trade-api) (3.10.0.2)\n",
            "Requirement already satisfied: multidict<7.0,>=4.5 in /usr/local/lib/python3.7/dist-packages (from aiohttp==3.7.4->alpaca-trade-api) (6.0.2)\n",
            "Requirement already satisfied: chardet<4.0,>=2.0 in /usr/local/lib/python3.7/dist-packages (from aiohttp==3.7.4->alpaca-trade-api) (3.0.4)\n",
            "Requirement already satisfied: async-timeout<4.0,>=3.0 in /usr/local/lib/python3.7/dist-packages (from aiohttp==3.7.4->alpaca-trade-api) (3.0.1)\n",
            "Requirement already satisfied: packaging in /usr/local/lib/python3.7/dist-packages (from deprecation==2.1.0->alpaca-trade-api) (21.3)\n",
            "Requirement already satisfied: pytz>=2017.3 in /usr/local/lib/python3.7/dist-packages (from pandas>=0.18.1->alpaca-trade-api) (2018.9)\n",
            "Requirement already satisfied: python-dateutil>=2.7.3 in /usr/local/lib/python3.7/dist-packages (from pandas>=0.18.1->alpaca-trade-api) (2.8.2)\n",
            "Requirement already satisfied: six>=1.5 in /usr/local/lib/python3.7/dist-packages (from python-dateutil>=2.7.3->pandas>=0.18.1->alpaca-trade-api) (1.15.0)\n",
            "Requirement already satisfied: idna<3,>=2.5 in /usr/local/lib/python3.7/dist-packages (from requests<3,>2->alpaca-trade-api) (2.10)\n",
            "Requirement already satisfied: certifi>=2017.4.17 in /usr/local/lib/python3.7/dist-packages (from requests<3,>2->alpaca-trade-api) (2021.10.8)\n",
            "Requirement already satisfied: pyparsing!=3.0.5,>=2.0.2 in /usr/local/lib/python3.7/dist-packages (from packaging->deprecation==2.1.0->alpaca-trade-api) (3.0.7)\n"
          ]
        }
      ]
    },
    {
      "cell_type": "code",
      "source": [
        "import alpaca_trade_api as tradeapi"
      ],
      "metadata": {
        "id": "zlY09WAC-4Kb"
      },
      "execution_count": 10,
      "outputs": []
    },
    {
      "cell_type": "code",
      "source": [
        "sec_key = '7sAJ142sPJQnVJizA29fbSAxjUM10i6raWRcoLai'\n",
        "api_id = 'PKHYOP5V6NH3YRCZF10O'\n",
        "baseurl = 'https://paper-api.alpaca.markets'"
      ],
      "metadata": {
        "id": "smEApupLgqNx"
      },
      "execution_count": 11,
      "outputs": []
    },
    {
      "cell_type": "code",
      "source": [
        "import numpy as np\n",
        "import time"
      ],
      "metadata": {
        "id": "gYrbUcRxhptb"
      },
      "execution_count": 12,
      "outputs": []
    },
    {
      "cell_type": "code",
      "source": [
        "api = tradeapi.REST(key_id = api_id, secret_key = sec_key, base_url = baseurl)"
      ],
      "metadata": {
        "id": "GUENgOhLhwXx"
      },
      "execution_count": 13,
      "outputs": []
    },
    {
      "cell_type": "code",
      "source": [
        "symb = \"SPY\"\n",
        "pos_held = False\n",
        "\n",
        "while True:\n",
        "    print(\"\")\n",
        "    print(\"Checking Price\")\n",
        "    \n",
        "    market_data = api.get_barset(symb, 'minute', limit=5) # Get one bar object for each of the past 5 minutes\n",
        "\n",
        "    close_list = [] # This array will store all the closing prices from the last 5 minutes\n",
        "    for bar in market_data[symb]:\n",
        "        close_list.append(bar.c) # bar.c is the closing price of that bar's time interval\n",
        "\n",
        "    close_list = np.array(close_list, dtype=np.float64) # Convert to numpy array\n",
        "    ma = np.mean(close_list)\n",
        "    last_price = close_list[4] # Most recent closing price\n",
        "\n",
        "    print(\"Moving Average: \" + str(ma))\n",
        "    print(\"Last Price: \" + str(last_price))\n",
        "\n",
        "    \n",
        "    if ma + 0.1 < last_price and not pos_held: # If MA is more than 10cents under price, and we haven't already bought\n",
        "        print(\"Buy\")\n",
        "        api.submit_order(\n",
        "            symbol=symb,\n",
        "            qty=1,\n",
        "            side='buy',\n",
        "            type='market',\n",
        "            time_in_force='gtc'\n",
        "        )\n",
        "        pos_held = True\n",
        "    elif ma - 0.1 > last_price and pos_held: # If MA is more than 10cents above price, and we already bought\n",
        "        print(\"Sell\")\n",
        "        api.submit_order(\n",
        "            symbol=symb,\n",
        "            qty=1,\n",
        "            side='sell',\n",
        "            type='market',\n",
        "            time_in_force='gtc'\n",
        "        )\n",
        "        pos_held = False\n",
        "     \n",
        "    time.sleep(60)"
      ],
      "metadata": {
        "colab": {
          "base_uri": "https://localhost:8080/",
          "height": 625
        },
        "id": "V7B-rvhTk8yD",
        "outputId": "e8e6f8af-ff89-4d08-b638-07c25800e561"
      },
      "execution_count": 15,
      "outputs": [
        {
          "output_type": "stream",
          "name": "stdout",
          "text": [
            "\n",
            "Checking Price\n",
            "Moving Average: 452.788\n",
            "Last Price: 455.05\n",
            "Buy\n"
          ]
        },
        {
          "output_type": "stream",
          "name": "stderr",
          "text": [
            "/usr/local/lib/python3.7/dist-packages/ipykernel_launcher.py:8: DeprecatedWarning: get_barset is deprecated as of v1.0.0. Use get_bars instead\n",
            "  \n"
          ]
        },
        {
          "output_type": "stream",
          "name": "stdout",
          "text": [
            "\n",
            "Checking Price\n",
            "Moving Average: 452.788\n",
            "Last Price: 455.05\n",
            "\n",
            "Checking Price\n",
            "Moving Average: 452.788\n",
            "Last Price: 455.05\n",
            "\n",
            "Checking Price\n",
            "Moving Average: 452.788\n",
            "Last Price: 455.05\n",
            "\n",
            "Checking Price\n",
            "Moving Average: 452.788\n",
            "Last Price: 455.05\n"
          ]
        },
        {
          "output_type": "error",
          "ename": "KeyboardInterrupt",
          "evalue": "ignored",
          "traceback": [
            "\u001b[0;31m---------------------------------------------------------------------------\u001b[0m",
            "\u001b[0;31mKeyboardInterrupt\u001b[0m                         Traceback (most recent call last)",
            "\u001b[0;32m<ipython-input-15-760759ca9ee0>\u001b[0m in \u001b[0;36m<module>\u001b[0;34m()\u001b[0m\n\u001b[1;32m     41\u001b[0m         \u001b[0mpos_held\u001b[0m \u001b[0;34m=\u001b[0m \u001b[0;32mFalse\u001b[0m\u001b[0;34m\u001b[0m\u001b[0;34m\u001b[0m\u001b[0m\n\u001b[1;32m     42\u001b[0m \u001b[0;34m\u001b[0m\u001b[0m\n\u001b[0;32m---> 43\u001b[0;31m     \u001b[0mtime\u001b[0m\u001b[0;34m.\u001b[0m\u001b[0msleep\u001b[0m\u001b[0;34m(\u001b[0m\u001b[0;36m60\u001b[0m\u001b[0;34m)\u001b[0m\u001b[0;34m\u001b[0m\u001b[0;34m\u001b[0m\u001b[0m\n\u001b[0m",
            "\u001b[0;31mKeyboardInterrupt\u001b[0m: "
          ]
        }
      ]
    },
    {
      "cell_type": "code",
      "source": [
        ""
      ],
      "metadata": {
        "id": "yIdZioi-1AUW"
      },
      "execution_count": null,
      "outputs": []
    }
  ]
}